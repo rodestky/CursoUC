{
 "cells": [
  {
   "cell_type": "markdown",
   "metadata": {
    "id": "JKVCF1L4TC2f"
   },
   "source": [
    "# Exploración de Datos en Python\n",
    "Educación Profesional UC 2023"
   ]
  },
  {
   "cell_type": "code",
   "execution_count": null,
   "metadata": {
    "id": "-jfds0ptTAbJ"
   },
   "outputs": [],
   "source": []
  },
  {
   "cell_type": "markdown",
   "metadata": {
    "id": "KQ86KUu3TcyH"
   },
   "source": [
    "Introduciendo Jupyter Notebook"
   ]
  },
  {
   "cell_type": "markdown",
   "metadata": {
    "id": "gyNq4_xLTf1W"
   },
   "source": [
    "Celda de texto"
   ]
  },
  {
   "cell_type": "code",
   "execution_count": null,
   "metadata": {
    "colab": {
     "base_uri": "https://localhost:8080/",
     "height": 34
    },
    "id": "wjQ-MAV_TgyZ",
    "outputId": "dd0421fe-dd71-48cc-bc30-ad46b1b5681b"
   },
   "outputs": [
    {
     "data": {
      "text/plain": [
       "13"
      ]
     },
     "execution_count": 1,
     "metadata": {},
     "output_type": "execute_result"
    }
   ],
   "source": [
    "7 + 6"
   ]
  },
  {
   "cell_type": "code",
   "execution_count": null,
   "metadata": {
    "colab": {
     "base_uri": "https://localhost:8080/",
     "height": 34
    },
    "id": "Cv-LLCzTThtv",
    "outputId": "faac5e0d-4648-47e9-87ee-5b033a5e23e2"
   },
   "outputs": [
    {
     "data": {
      "text/plain": [
       "12"
      ]
     },
     "execution_count": 2,
     "metadata": {},
     "output_type": "execute_result"
    }
   ],
   "source": [
    "2 * 6"
   ]
  },
  {
   "cell_type": "code",
   "execution_count": null,
   "metadata": {
    "id": "FJurBZNDT4uj"
   },
   "outputs": [],
   "source": [
    "a = 7 - 5"
   ]
  },
  {
   "cell_type": "code",
   "execution_count": null,
   "metadata": {
    "colab": {
     "base_uri": "https://localhost:8080/",
     "height": 34
    },
    "id": "Nt6rfjwKT68v",
    "outputId": "361bc182-214c-4406-9db5-9f4541c7774c"
   },
   "outputs": [
    {
     "data": {
      "text/plain": [
       "2"
      ]
     },
     "execution_count": 4,
     "metadata": {},
     "output_type": "execute_result"
    }
   ],
   "source": [
    "a"
   ]
  },
  {
   "cell_type": "code",
   "execution_count": null,
   "metadata": {
    "colab": {
     "base_uri": "https://localhost:8080/",
     "height": 34
    },
    "id": "ljw-Sr_HT8Ia",
    "outputId": "2552ffc2-db60-4242-8a5e-d75d6dc17bb4"
   },
   "outputs": [
    {
     "data": {
      "text/plain": [
       "26"
      ]
     },
     "execution_count": 5,
     "metadata": {},
     "output_type": "execute_result"
    }
   ],
   "source": [
    "13 * a"
   ]
  },
  {
   "cell_type": "code",
   "execution_count": null,
   "metadata": {
    "id": "zqVIlC2YUCb2"
   },
   "outputs": [],
   "source": []
  },
  {
   "cell_type": "markdown",
   "metadata": {
    "id": "3O9OM8W5ULto"
   },
   "source": [
    "Las celdas de texto permiten la creación de reportes mediante el uso del lenguaje MarkDown [GitHub-flavored Markdown syntax](https://github.github.com/gfm/).\n",
    "\n",
    "## Sintáxis Markdown\n",
    "\n",
    "## Headers\n",
    "\n",
    "# H1 - Ejemplo encabezado\n",
    "\n",
    "## H2 - Ejemplo encabezado\n",
    "\n",
    "### H3 - Ejemplo encabezado\n",
    "\n",
    "#### H4 - Ejemplo encabezado\n",
    "\n",
    "##### H5 - Ejemplo encabezado\n",
    "\n",
    "###### H6 - Ejemplo encabezado\n",
    "\n",
    "---\n",
    "\n",
    "## Énfasis\n",
    "\n",
    "Énfasis, alias itálica, con *asteriscos* o _subrayados_.\n",
    "\n",
    "Fuerte énfasis, alias negrita, con **asteriscos** o __bajos__.\n",
    "\n",
    "Énfasis combinado con **asteriscos y _subrayados_**.\n",
    "\n",
    "El tachado utiliza dos tildes. ~~. Tacha esto. ~~\n",
    "\n",
    "---\n",
    "\n",
    "## Listas\n",
    "\n",
    "1. El primer artículo de la lista ordenada\n",
    "1. Otro artículo\n",
    "   - Sub-lista no ordenada.\n",
    "1. Los números reales no importan, sólo que es un número\n",
    "   1. Sub-lista ordenada\n",
    "1. Y otro artículo.\n",
    "\n",
    "* La lista no ordenada puede usar asteriscos\n",
    "\n",
    "- O menos\n",
    "\n",
    "+ O más...\n",
    "\n",
    "---\n",
    "\n",
    "## Enlaces\n",
    "\n",
    "[Soy un enlace de estilo en línea](https://www.google.com/)\n",
    "\n",
    "[Soy un enlace de estilo en línea con título](https://www.google.com/ \"Página principal de Google\")\n",
    "\n",
    "\n",
    "[Puede usar números para las definiciones de enlaces de estilo de referencia][1]\n",
    "\n",
    "Los URLs y los URLs entre paréntesis angulares se convertirán automáticamente en enlaces. http://www.example.com/ o <http://www.example.com/> y a veces example.com (pero no en GitHub, por ejemplo).\n",
    "\n",
    "\n",
    "[1]: http://www.example.com/\n",
    "\n",
    "---\n",
    "\n",
    "## Imágenes\n",
    "\n",
    "Aquí está nuestro logo (pase el cursor para ver el texto del título):\n",
    "\n",
    "![alt text](https://vegibit.com/wp-content/uploads/2020/03/python-jupyter-notebook.png 'Logo Título Texto 1')\n",
    "\n",
    "\n",
    "Las imágenes de cualquier carpeta se pueden utilizar proporcionando la ruta de acceso al archivo. La ruta debe ser relativa al archivo.\n",
    "\n",
    "![img](logo.png)\n",
    "\n",
    "---\n",
    "\n",
    "## Código\n",
    "\n",
    "\n",
    "```\n",
    "a = 13 - 7\n",
    "\n",
    "b = a * 3\n",
    "\n",
    "c = b * b\n",
    "```\n",
    "\n",
    "\n",
    "\n",
    "---\n",
    "\n",
    "\n",
    "## Citas\n",
    "\n",
    "> Ejemplo de uso de cita.\n",
    "\n",
    "Corte de la cita.\n",
    "\n",
    "> Esta es una línea muy larga que se citará correctamente cuando termine. Sigamos escribiendo para asegurarnos de que es lo suficientemente larga para que todos la vean. Oh, puedes poner un comentario en una cita en bloque.\n",
    "\n",
    "\n",
    "\n"
   ]
  },
  {
   "cell_type": "code",
   "execution_count": 1,
   "metadata": {
    "id": "JqwrUaxQWMM1"
   },
   "outputs": [],
   "source": [
    "import pandas as pd"
   ]
  },
  {
   "cell_type": "markdown",
   "metadata": {
    "id": "rD7K3Ql8WQQn"
   },
   "source": [
    "\n",
    "Si es que les da error\n",
    "```\n",
    "pip install pandas\n",
    "```\n",
    "\n",
    "\n"
   ]
  },
  {
   "cell_type": "code",
   "execution_count": null,
   "metadata": {},
   "outputs": [],
   "source": []
  }
 ],
 "metadata": {
  "colab": {
   "collapsed_sections": [
    "B34cRQyRf802"
   ],
   "name": "Actividad 1 (segunda parte).ipynb",
   "provenance": [],
   "toc_visible": true
  },
  "kernelspec": {
   "display_name": "Python 3 (ipykernel)",
   "language": "python",
   "name": "python3"
  },
  "language_info": {
   "codemirror_mode": {
    "name": "ipython",
    "version": 3
   },
   "file_extension": ".py",
   "mimetype": "text/x-python",
   "name": "python",
   "nbconvert_exporter": "python",
   "pygments_lexer": "ipython3",
   "version": "3.8.16"
  }
 },
 "nbformat": 4,
 "nbformat_minor": 1
}
